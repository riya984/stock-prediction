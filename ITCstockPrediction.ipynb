{
 "cells": [
  {
   "cell_type": "code",
   "execution_count": 3,
   "id": "d6362095",
   "metadata": {},
   "outputs": [],
   "source": [
    "import pandas as pd\n",
    "import numpy as np\n",
    "\n",
    "import matplotlib.pyplot as plt\n",
    "%matplotlib inline\n",
    "\n",
    "from sklearn.preprocessing import MinMaxScaler\n",
    "\n",
    "import keras \n",
    "from keras.models import Sequential\n",
    "from keras.layers import LSTM,Dropout,Dense\n"
   ]
  },
  {
   "cell_type": "code",
   "execution_count": 19,
   "id": "7b585ed7",
   "metadata": {},
   "outputs": [
    {
     "data": {
      "text/html": [
       "<div>\n",
       "<style scoped>\n",
       "    .dataframe tbody tr th:only-of-type {\n",
       "        vertical-align: middle;\n",
       "    }\n",
       "\n",
       "    .dataframe tbody tr th {\n",
       "        vertical-align: top;\n",
       "    }\n",
       "\n",
       "    .dataframe thead th {\n",
       "        text-align: right;\n",
       "    }\n",
       "</style>\n",
       "<table border=\"1\" class=\"dataframe\">\n",
       "  <thead>\n",
       "    <tr style=\"text-align: right;\">\n",
       "      <th></th>\n",
       "      <th>Date</th>\n",
       "      <th>Open</th>\n",
       "      <th>High</th>\n",
       "      <th>Low</th>\n",
       "      <th>Close</th>\n",
       "      <th>Adj Close</th>\n",
       "      <th>Volume</th>\n",
       "    </tr>\n",
       "  </thead>\n",
       "  <tbody>\n",
       "    <tr>\n",
       "      <th>0</th>\n",
       "      <td>01-01-1996</td>\n",
       "      <td>5.550000</td>\n",
       "      <td>5.600000</td>\n",
       "      <td>5.533333</td>\n",
       "      <td>5.583333</td>\n",
       "      <td>3.323907</td>\n",
       "      <td>985500.0</td>\n",
       "    </tr>\n",
       "    <tr>\n",
       "      <th>1</th>\n",
       "      <td>02-01-1996</td>\n",
       "      <td>5.466666</td>\n",
       "      <td>5.566666</td>\n",
       "      <td>5.288888</td>\n",
       "      <td>5.372222</td>\n",
       "      <td>3.198226</td>\n",
       "      <td>7470000.0</td>\n",
       "    </tr>\n",
       "    <tr>\n",
       "      <th>2</th>\n",
       "      <td>03-01-1996</td>\n",
       "      <td>5.133333</td>\n",
       "      <td>5.254444</td>\n",
       "      <td>5.101111</td>\n",
       "      <td>5.200000</td>\n",
       "      <td>3.095698</td>\n",
       "      <td>15160500.0</td>\n",
       "    </tr>\n",
       "    <tr>\n",
       "      <th>3</th>\n",
       "      <td>04-01-1996</td>\n",
       "      <td>5.200000</td>\n",
       "      <td>5.332222</td>\n",
       "      <td>5.144444</td>\n",
       "      <td>5.297777</td>\n",
       "      <td>3.153908</td>\n",
       "      <td>12397500.0</td>\n",
       "    </tr>\n",
       "    <tr>\n",
       "      <th>4</th>\n",
       "      <td>05-01-1996</td>\n",
       "      <td>5.297777</td>\n",
       "      <td>5.277777</td>\n",
       "      <td>5.188888</td>\n",
       "      <td>5.202222</td>\n",
       "      <td>3.097020</td>\n",
       "      <td>5008500.0</td>\n",
       "    </tr>\n",
       "  </tbody>\n",
       "</table>\n",
       "</div>"
      ],
      "text/plain": [
       "         Date      Open      High       Low     Close  Adj Close      Volume\n",
       "0  01-01-1996  5.550000  5.600000  5.533333  5.583333   3.323907    985500.0\n",
       "1  02-01-1996  5.466666  5.566666  5.288888  5.372222   3.198226   7470000.0\n",
       "2  03-01-1996  5.133333  5.254444  5.101111  5.200000   3.095698  15160500.0\n",
       "3  04-01-1996  5.200000  5.332222  5.144444  5.297777   3.153908  12397500.0\n",
       "4  05-01-1996  5.297777  5.277777  5.188888  5.202222   3.097020   5008500.0"
      ]
     },
     "execution_count": 19,
     "metadata": {},
     "output_type": "execute_result"
    }
   ],
   "source": [
    "df=pd.read_csv('ITC.NS.csv')\n",
    "df.head()"
   ]
  },
  {
   "cell_type": "code",
   "execution_count": 5,
   "id": "65967a24",
   "metadata": {},
   "outputs": [
    {
     "data": {
      "text/html": [
       "<div>\n",
       "<style scoped>\n",
       "    .dataframe tbody tr th:only-of-type {\n",
       "        vertical-align: middle;\n",
       "    }\n",
       "\n",
       "    .dataframe tbody tr th {\n",
       "        vertical-align: top;\n",
       "    }\n",
       "\n",
       "    .dataframe thead th {\n",
       "        text-align: right;\n",
       "    }\n",
       "</style>\n",
       "<table border=\"1\" class=\"dataframe\">\n",
       "  <thead>\n",
       "    <tr style=\"text-align: right;\">\n",
       "      <th></th>\n",
       "      <th>Date</th>\n",
       "      <th>Open</th>\n",
       "      <th>High</th>\n",
       "      <th>Low</th>\n",
       "      <th>Close</th>\n",
       "      <th>Adj Close</th>\n",
       "      <th>Volume</th>\n",
       "    </tr>\n",
       "  </thead>\n",
       "  <tbody>\n",
       "    <tr>\n",
       "      <th>6885</th>\n",
       "      <td>10-05-2023</td>\n",
       "      <td>423.950012</td>\n",
       "      <td>426.350006</td>\n",
       "      <td>422.200012</td>\n",
       "      <td>425.350006</td>\n",
       "      <td>425.350006</td>\n",
       "      <td>9754485.0</td>\n",
       "    </tr>\n",
       "    <tr>\n",
       "      <th>6886</th>\n",
       "      <td>11-05-2023</td>\n",
       "      <td>427.250000</td>\n",
       "      <td>427.399994</td>\n",
       "      <td>418.899994</td>\n",
       "      <td>420.399994</td>\n",
       "      <td>420.399994</td>\n",
       "      <td>15982423.0</td>\n",
       "    </tr>\n",
       "    <tr>\n",
       "      <th>6887</th>\n",
       "      <td>12-05-2023</td>\n",
       "      <td>420.399994</td>\n",
       "      <td>422.700012</td>\n",
       "      <td>416.049988</td>\n",
       "      <td>420.450012</td>\n",
       "      <td>420.450012</td>\n",
       "      <td>11135894.0</td>\n",
       "    </tr>\n",
       "    <tr>\n",
       "      <th>6888</th>\n",
       "      <td>15-05-2023</td>\n",
       "      <td>420.000000</td>\n",
       "      <td>428.700012</td>\n",
       "      <td>419.049988</td>\n",
       "      <td>427.799988</td>\n",
       "      <td>427.799988</td>\n",
       "      <td>9151102.0</td>\n",
       "    </tr>\n",
       "    <tr>\n",
       "      <th>6889</th>\n",
       "      <td>16-05-2023</td>\n",
       "      <td>430.000000</td>\n",
       "      <td>430.000000</td>\n",
       "      <td>423.500000</td>\n",
       "      <td>423.950012</td>\n",
       "      <td>423.950012</td>\n",
       "      <td>7994197.0</td>\n",
       "    </tr>\n",
       "  </tbody>\n",
       "</table>\n",
       "</div>"
      ],
      "text/plain": [
       "            Date        Open        High         Low       Close   Adj Close  \\\n",
       "6885  10-05-2023  423.950012  426.350006  422.200012  425.350006  425.350006   \n",
       "6886  11-05-2023  427.250000  427.399994  418.899994  420.399994  420.399994   \n",
       "6887  12-05-2023  420.399994  422.700012  416.049988  420.450012  420.450012   \n",
       "6888  15-05-2023  420.000000  428.700012  419.049988  427.799988  427.799988   \n",
       "6889  16-05-2023  430.000000  430.000000  423.500000  423.950012  423.950012   \n",
       "\n",
       "          Volume  \n",
       "6885   9754485.0  \n",
       "6886  15982423.0  \n",
       "6887  11135894.0  \n",
       "6888   9151102.0  \n",
       "6889   7994197.0  "
      ]
     },
     "execution_count": 5,
     "metadata": {},
     "output_type": "execute_result"
    }
   ],
   "source": [
    "df.tail()"
   ]
  },
  {
   "cell_type": "code",
   "execution_count": 6,
   "id": "bbaaab1c",
   "metadata": {},
   "outputs": [
    {
     "data": {
      "text/plain": [
       "(6890, 7)"
      ]
     },
     "execution_count": 6,
     "metadata": {},
     "output_type": "execute_result"
    }
   ],
   "source": [
    "df.shape"
   ]
  },
  {
   "cell_type": "code",
   "execution_count": 20,
   "id": "0915cee2",
   "metadata": {},
   "outputs": [
    {
     "data": {
      "text/plain": [
       "[<matplotlib.lines.Line2D at 0x1da33aed960>]"
      ]
     },
     "execution_count": 20,
     "metadata": {},
     "output_type": "execute_result"
    },
    {
     "data": {
      "image/png": "[encoded data removed]",
      "text/plain": [
       "<Figure size 1500x1000 with 1 Axes>"
      ]
     },
     "metadata": {},
     "output_type": "display_data"
    }
   ],
   "source": [
    "df[\"Date\"]=pd.to_datetime(df.Date,format=\"%d-%m-%Y\")\n",
    "df.index=df['Date']\n",
    "\n",
    "plt.figure(figsize=(15,10))\n",
    "plt.title(\"Close price history\")\n",
    "plt.plot(df[\"Close\"])"
   ]
  },
  {
   "cell_type": "code",
   "execution_count": 21,
   "id": "f904a033",
   "metadata": {},
   "outputs": [
    {
     "data": {
      "text/html": [
       "<div>\n",
       "<style scoped>\n",
       "    .dataframe tbody tr th:only-of-type {\n",
       "        vertical-align: middle;\n",
       "    }\n",
       "\n",
       "    .dataframe tbody tr th {\n",
       "        vertical-align: top;\n",
       "    }\n",
       "\n",
       "    .dataframe thead th {\n",
       "        text-align: right;\n",
       "    }\n",
       "</style>\n",
       "<table border=\"1\" class=\"dataframe\">\n",
       "  <thead>\n",
       "    <tr style=\"text-align: right;\">\n",
       "      <th></th>\n",
       "      <th>Date</th>\n",
       "      <th>Close</th>\n",
       "    </tr>\n",
       "  </thead>\n",
       "  <tbody>\n",
       "    <tr>\n",
       "      <th>0</th>\n",
       "      <td>1996-01-01 00:00:00</td>\n",
       "      <td>5.583333</td>\n",
       "    </tr>\n",
       "    <tr>\n",
       "      <th>1</th>\n",
       "      <td>1996-01-02 00:00:00</td>\n",
       "      <td>5.372222</td>\n",
       "    </tr>\n",
       "    <tr>\n",
       "      <th>2</th>\n",
       "      <td>1996-01-03 00:00:00</td>\n",
       "      <td>5.2</td>\n",
       "    </tr>\n",
       "    <tr>\n",
       "      <th>3</th>\n",
       "      <td>1996-01-04 00:00:00</td>\n",
       "      <td>5.297777</td>\n",
       "    </tr>\n",
       "    <tr>\n",
       "      <th>4</th>\n",
       "      <td>1996-01-05 00:00:00</td>\n",
       "      <td>5.202222</td>\n",
       "    </tr>\n",
       "    <tr>\n",
       "      <th>...</th>\n",
       "      <td>...</td>\n",
       "      <td>...</td>\n",
       "    </tr>\n",
       "    <tr>\n",
       "      <th>6885</th>\n",
       "      <td>2023-05-10 00:00:00</td>\n",
       "      <td>425.350006</td>\n",
       "    </tr>\n",
       "    <tr>\n",
       "      <th>6886</th>\n",
       "      <td>2023-05-11 00:00:00</td>\n",
       "      <td>420.399994</td>\n",
       "    </tr>\n",
       "    <tr>\n",
       "      <th>6887</th>\n",
       "      <td>2023-05-12 00:00:00</td>\n",
       "      <td>420.450012</td>\n",
       "    </tr>\n",
       "    <tr>\n",
       "      <th>6888</th>\n",
       "      <td>2023-05-15 00:00:00</td>\n",
       "      <td>427.799988</td>\n",
       "    </tr>\n",
       "    <tr>\n",
       "      <th>6889</th>\n",
       "      <td>2023-05-16 00:00:00</td>\n",
       "      <td>423.950012</td>\n",
       "    </tr>\n",
       "  </tbody>\n",
       "</table>\n",
       "<p>6879 rows × 2 columns</p>\n",
       "</div>"
      ],
      "text/plain": [
       "                     Date       Close\n",
       "0     1996-01-01 00:00:00    5.583333\n",
       "1     1996-01-02 00:00:00    5.372222\n",
       "2     1996-01-03 00:00:00         5.2\n",
       "3     1996-01-04 00:00:00    5.297777\n",
       "4     1996-01-05 00:00:00    5.202222\n",
       "...                   ...         ...\n",
       "6885  2023-05-10 00:00:00  425.350006\n",
       "6886  2023-05-11 00:00:00  420.399994\n",
       "6887  2023-05-12 00:00:00  420.450012\n",
       "6888  2023-05-15 00:00:00  427.799988\n",
       "6889  2023-05-16 00:00:00  423.950012\n",
       "\n",
       "[6879 rows x 2 columns]"
      ]
     },
     "execution_count": 21,
     "metadata": {},
     "output_type": "execute_result"
    }
   ],
   "source": [
    "data=df.sort_index(ascending=True,axis=0)\n",
    "\n",
    "new_dataset=pd.DataFrame(index=range(0,len(df)),columns=[\"Date\",'Close'])\n",
    "\n",
    "for i in range(len(data)):\n",
    "    new_dataset[\"Date\"][i]=data[\"Date\"][i]\n",
    "    new_dataset[\"Close\"][i]=data[\"Close\"][i]\n",
    "    \n",
    "new_dataset=new_dataset.dropna()\n",
    "new_dataset\n",
    "\n"
   ]
  },
  {
   "cell_type": "code",
   "execution_count": 22,
   "id": "e2fa2bce",
   "metadata": {},
   "outputs": [],
   "source": [
    "scaler=MinMaxScaler()\n",
    "\n",
    "final_dataset=new_dataset.values\n",
    "\n",
    "train_data=final_dataset[:4000, :4000]\n",
    "test_data=final_dataset[4000: , 4000:]"
   ]
  },
  {
   "cell_type": "code",
   "execution_count": 43,
   "id": "c372968b",
   "metadata": {},
   "outputs": [
    {
     "data": {
      "text/plain": [
       "array([[0.00327923],\n",
       "       [0.00278514],\n",
       "       [0.00238206],\n",
       "       ...,\n",
       "       [0.97425502],\n",
       "       [0.99145729],\n",
       "       [0.98244661]])"
      ]
     },
     "execution_count": 43,
     "metadata": {},
     "output_type": "execute_result"
    }
   ],
   "source": [
    "scaled_data=scaler.fit_transform(final_dataset[:,1:])\n",
    "scaled_data"
   ]
  },
  {
   "cell_type": "code",
   "execution_count": 42,
   "id": "59d9aab8",
   "metadata": {},
   "outputs": [
    {
     "data": {
      "text/plain": [
       "array([[[0.00327923],\n",
       "        [0.00278514],\n",
       "        [0.00238206],\n",
       "        ...,\n",
       "        [0.00212201],\n",
       "        [0.00245748],\n",
       "        [0.00176314]],\n",
       "\n",
       "       [[0.00278514],\n",
       "        [0.00238206],\n",
       "        [0.0026109 ],\n",
       "        ...,\n",
       "        [0.00245748],\n",
       "        [0.00176314],\n",
       "        [0.00098299]],\n",
       "\n",
       "       [[0.00238206],\n",
       "        [0.0026109 ],\n",
       "        [0.00238726],\n",
       "        ...,\n",
       "        [0.00176314],\n",
       "        [0.00098299],\n",
       "        [0.00133146]],\n",
       "\n",
       "       ...,\n",
       "\n",
       "       [[0.29439251],\n",
       "        [0.29447054],\n",
       "        [0.28924352],\n",
       "        ...,\n",
       "        [0.30531463],\n",
       "        [0.30227204],\n",
       "        [0.30734303]],\n",
       "\n",
       "       [[0.29447054],\n",
       "        [0.28924352],\n",
       "        [0.2880733 ],\n",
       "        ...,\n",
       "        [0.30227204],\n",
       "        [0.30734303],\n",
       "        [0.30656289]],\n",
       "\n",
       "       [[0.28924352],\n",
       "        [0.2880733 ],\n",
       "        [0.2926762 ],\n",
       "        ...,\n",
       "        [0.30734303],\n",
       "        [0.30656289],\n",
       "        [0.30664089]]])"
      ]
     },
     "execution_count": 42,
     "metadata": {},
     "output_type": "execute_result"
    }
   ],
   "source": [
    "X_train_data, y_train_data = [], []\n",
    "for i in range(60,len(train_data)):\n",
    "    X_train_data.append(scaled_data[i-60:i,0])\n",
    "    y_train_data.append(scaled_data[i,0])\n",
    "    \n",
    "X_train_data,y_train_data=np.array(X_train_data),np.array(y_train_data)\n",
    "X_train_data=np.reshape(X_train_data,(X_train_data.shape[0],X_train_data.shape[1],1))\n",
    "X_train_data"
   ]
  },
  {
   "cell_type": "code",
   "execution_count": 44,
   "id": "855d480c",
   "metadata": {},
   "outputs": [
    {
     "name": "stdout",
     "output_type": "stream",
     "text": [
      "3940/3940 - 141s - loss: 8.3806e-05 - 141s/epoch - 36ms/step\n"
     ]
    },
    {
     "data": {
      "text/plain": [
       "<keras.callbacks.History at 0x1da4869f130>"
      ]
     },
     "execution_count": 44,
     "metadata": {},
     "output_type": "execute_result"
    }
   ],
   "source": [
    "lstm_model = Sequential()\n",
    "lstm_model.add(LSTM(units=50, return_sequences=True, input_shape=(X_train_data.shape[1], 1)))\n",
    "lstm_model.add(LSTM(units=50))\n",
    "lstm_model.add(Dense(1))\n",
    "\n",
    "\n",
    "inputs_data = new_dataset[len(new_dataset) - len(test_data) - 60:].iloc[:, 1:].values\n",
    "inputs_data = inputs_data.reshape(-1, 1)\n",
    "inputs_data = scaler.fit_transform(inputs_data)\n",
    "\n",
    "lstm_model.compile(loss='mean_squared_error', optimizer = 'adam')\n",
    "lstm_model.fit(X_train_data,y_train_data, epochs=1, batch_size=1, verbose=2)"
   ]
  },
  {
   "cell_type": "code",
   "execution_count": 46,
   "id": "4225630e",
   "metadata": {},
   "outputs": [
    {
     "name": "stdout",
     "output_type": "stream",
     "text": [
      "90/90 [==============================] - 5s 29ms/step\n"
     ]
    }
   ],
   "source": [
    "X_test=[]\n",
    "for i in range(60,inputs_data.shape[0]):\n",
    "    X_test.append(inputs_data[i-60:i,0])\n",
    "X_test=np.array(X_test)\n",
    "\n",
    "X_test=np.reshape(X_test,(X_test.shape[0],X_test.shape[1],1))\n",
    "predicted_closing_price=lstm_model.predict(X_test)\n",
    "predicted_closing_price=scaler.inverse_transform(predicted_closing_price)"
   ]
  },
  {
   "cell_type": "code",
   "execution_count": 47,
   "id": "c0fcac70",
   "metadata": {},
   "outputs": [
    {
     "data": {
      "text/plain": [
       "array([[134.57774],\n",
       "       [134.27144],\n",
       "       [133.7456 ],\n",
       "       ...,\n",
       "       [398.22583],\n",
       "       [396.87076],\n",
       "       [396.89862]], dtype=float32)"
      ]
     },
     "execution_count": 47,
     "metadata": {},
     "output_type": "execute_result"
    }
   ],
   "source": [
    "predicted_closing_price"
   ]
  },
  {
   "cell_type": "code",
   "execution_count": 48,
   "id": "f018bec3",
   "metadata": {},
   "outputs": [
    {
     "name": "stderr",
     "output_type": "stream",
     "text": [
      "C:\\Users\\TARIN\\AppData\\Local\\Temp\\ipykernel_11744\\809686405.py:3: SettingWithCopyWarning: \n",
      "A value is trying to be set on a copy of a slice from a DataFrame.\n",
      "Try using .loc[row_indexer,col_indexer] = value instead\n",
      "\n",
      "See the caveats in the documentation: https://pandas.pydata.org/pandas-docs/stable/user_guide/indexing.html#returning-a-view-versus-a-copy\n",
      "  test_data['Predictions'] = predicted_closing_price\n"
     ]
    },
    {
     "data": {
      "image/png": "[encoded data removed]",
      "text/plain": [
       "<Figure size 640x480 with 1 Axes>"
      ]
     },
     "metadata": {},
     "output_type": "display_data"
    }
   ],
   "source": [
    "train_data=new_dataset[:4000]\n",
    "test_data=new_dataset[4000:]\n",
    "test_data['Predictions'] = predicted_closing_price\n",
    "plt.plot(train_data['Close'], color='blue', label = 'Actual Stock Price')\n",
    "plt.plot(test_data[[ 'Close','Predictions']])\n",
    "plt.legend(['Train','Value','Predictions'],loc='upper left')\n",
    "plt.show()"
   ]
  },
  {
   "cell_type": "code",
   "execution_count": null,
   "id": "4d150564",
   "metadata": {},
   "outputs": [],
   "source": []
  }
 ],
 "metadata": {
  "kernelspec": {
   "display_name": "Python 3 (ipykernel)",
   "language": "python",
   "name": "python3"
  },
  "language_info": {
   "codemirror_mode": {
    "name": "ipython",
    "version": 3
   },
   "file_extension": ".py",
   "mimetype": "text/x-python",
   "name": "python",
   "nbconvert_exporter": "python",
   "pygments_lexer": "ipython3",
   "version": "3.10.9"
  }
 },
 "nbformat": 4,
 "nbformat_minor": 5
}
